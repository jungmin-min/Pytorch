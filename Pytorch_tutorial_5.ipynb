{
 "cells": [
  {
   "cell_type": "code",
   "execution_count": 1,
   "id": "a3e596e6",
   "metadata": {},
   "outputs": [],
   "source": [
    "# torch.autograd 를 사용한 자동 미분\n",
    "# 신경망 학습에는 역전파 알고리즘이 주로 사용됨, 손실 함수의 gradient에 따라 조정됨.\n",
    "# gradient를 계산하기 위한 자동 미분 엔진이 바로 torch.autograd\n",
    "\n",
    "import torch\n",
    "\n",
    "x = torch.ones(5)  # input tensor\n",
    "y = torch.zeros(3) # expected output\n",
    "w = torch.randn(5, 3, requires_grad=True)   #requires_grad 속성이 True로 설정되어야 grad 속성 구할 수 있음.\n",
    "b = torch.randn(3, requires_grad=True)\n",
    "z = torch.matmul(x, w)+b\n",
    "loss = torch.nn.functional.binary_cross_entropy_with_logits(z, y)"
   ]
  },
  {
   "cell_type": "code",
   "execution_count": 2,
   "id": "6e1871c7",
   "metadata": {},
   "outputs": [
    {
     "name": "stdout",
     "output_type": "stream",
     "text": [
      "Gradient function for z = <AddBackward0 object at 0x7f70c8701c90>\n",
      "Gradient function for loss = <BinaryCrossEntropyWithLogitsBackward object at 0x7f70c8701d50>\n"
     ]
    }
   ],
   "source": [
    "# 5-1. Tensor, Funcion과 연산그래프(Computational graph)\n",
    "print('Gradient function for z =', z.grad_fn)\n",
    "print('Gradient function for loss =', loss.grad_fn)"
   ]
  },
  {
   "cell_type": "code",
   "execution_count": 3,
   "id": "1d36b5b8",
   "metadata": {},
   "outputs": [
    {
     "name": "stdout",
     "output_type": "stream",
     "text": [
      "tensor([[0.2736, 0.0554, 0.0790],\n",
      "        [0.2736, 0.0554, 0.0790],\n",
      "        [0.2736, 0.0554, 0.0790],\n",
      "        [0.2736, 0.0554, 0.0790],\n",
      "        [0.2736, 0.0554, 0.0790]])\n",
      "tensor([0.2736, 0.0554, 0.0790])\n"
     ]
    }
   ],
   "source": [
    "# 5-2. 변화도(Gradient) 계산하기\n",
    "# 신경망에서 매개변수의 가중치w를 최적화하려면 매개변수(w,b)에 대한 손실함수의 도함수(derivative)를 계산해야 한다.\n",
    "# 도함수 계산하기 위해 loss.backward()를 호출한 다음 w.grad와 b.grad에서 값을 가져온다.\n",
    "loss.backward()\n",
    "print(w.grad)\n",
    "print(b.grad)"
   ]
  },
  {
   "cell_type": "code",
   "execution_count": 4,
   "id": "14fd9e75",
   "metadata": {},
   "outputs": [
    {
     "name": "stdout",
     "output_type": "stream",
     "text": [
      "True\n",
      "False\n"
     ]
    }
   ],
   "source": [
    "# 5-3. 변화도 추적 멈추기\n",
    "# 순전파 연산만 필요한 경우(모델을 학습한 뒤 데이터를 단순히 적용하는 경우), 추적이나 지원이 필요없을 수 있다.\n",
    "z = torch.matmul(x, w)+b\n",
    "print(z.requires_grad)\n",
    "\n",
    "with torch.no_grad():  #연산 추적 멈춤\n",
    "    z = torch.matmul(x, w)+b\n",
    "print(z.requires_grad)"
   ]
  },
  {
   "cell_type": "code",
   "execution_count": 5,
   "id": "e6d4c70a",
   "metadata": {},
   "outputs": [
    {
     "name": "stdout",
     "output_type": "stream",
     "text": [
      "False\n"
     ]
    }
   ],
   "source": [
    "# 위와 동일한 방법\n",
    "z = torch.matmul(x, w)+b\n",
    "z_det = z.detach()\n",
    "print(z_det.requires_grad)"
   ]
  },
  {
   "cell_type": "code",
   "execution_count": 7,
   "id": "191e6c99",
   "metadata": {},
   "outputs": [
    {
     "name": "stdout",
     "output_type": "stream",
     "text": [
      "First call\n",
      " tensor([[4., 2., 2., 2., 2.],\n",
      "        [2., 4., 2., 2., 2.],\n",
      "        [2., 2., 4., 2., 2.],\n",
      "        [2., 2., 2., 4., 2.],\n",
      "        [2., 2., 2., 2., 4.]])\n",
      "\n",
      "Second call\n",
      " tensor([[8., 4., 4., 4., 4.],\n",
      "        [4., 8., 4., 4., 4.],\n",
      "        [4., 4., 8., 4., 4.],\n",
      "        [4., 4., 4., 8., 4.],\n",
      "        [4., 4., 4., 4., 8.]])\n",
      "\n",
      "Call after zeroing gradients\n",
      " tensor([[4., 2., 2., 2., 2.],\n",
      "        [2., 4., 2., 2., 2.],\n",
      "        [2., 2., 4., 2., 2.],\n",
      "        [2., 2., 2., 4., 2.],\n",
      "        [2., 2., 2., 2., 4.]])\n"
     ]
    }
   ],
   "source": [
    "# 5-5. 선택적으로 읽기(Optional Reading): 텐서 변화도와 야코비안 곱(Jacobian Product)\n",
    "# 출력함수가 임의의 텐서인 경우, 실제 gradient가 아닌 야코비안 곱을 계산한다.\n",
    "# v를 인자로 backward를 호출. v의 크기는 곱을 계산하려고 하는 원래 텐서의 크기와 같아야 함.\n",
    "inp = torch.eye(5, requires_grad=True)\n",
    "out = (inp+1).pow(2)\n",
    "out.backward(torch.ones_like(inp), retain_graph=True)\n",
    "print(\"First call\\n\", inp.grad)\n",
    "out.backward(torch.ones_like(inp), retain_graph=True)\n",
    "print(\"\\nSecond call\\n\", inp.grad)\n",
    "inp.grad.zero_()\n",
    "out.backward(torch.ones_like(inp), retain_graph=True)\n",
    "print(\"\\nCall after zeroing gradients\\n\", inp.grad)"
   ]
  },
  {
   "cell_type": "code",
   "execution_count": null,
   "id": "acd67276",
   "metadata": {},
   "outputs": [],
   "source": []
  }
 ],
 "metadata": {
  "kernelspec": {
   "display_name": "Python 3",
   "language": "python",
   "name": "python3"
  },
  "language_info": {
   "codemirror_mode": {
    "name": "ipython",
    "version": 3
   },
   "file_extension": ".py",
   "mimetype": "text/x-python",
   "name": "python",
   "nbconvert_exporter": "python",
   "pygments_lexer": "ipython3",
   "version": "3.7.10"
  }
 },
 "nbformat": 4,
 "nbformat_minor": 5
}
