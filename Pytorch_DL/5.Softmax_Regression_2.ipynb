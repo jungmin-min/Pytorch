{
 "cells": [
  {
   "cell_type": "markdown",
   "id": "41796841",
   "metadata": {},
   "source": [
    "## 5-4. 소프트맥스 회귀 구현하기\n"
   ]
  },
  {
   "cell_type": "code",
   "execution_count": 1,
   "id": "99f0b597",
   "metadata": {},
   "outputs": [
    {
     "data": {
      "text/plain": [
       "<torch._C.Generator at 0x7fa4300825d0>"
      ]
     },
     "execution_count": 1,
     "metadata": {},
     "output_type": "execute_result"
    }
   ],
   "source": [
    "import torch\n",
    "import torch.nn as nn\n",
    "import torch.nn.functional as F\n",
    "import torch.optim as optim\n",
    "\n",
    "torch. manual_seed(1)"
   ]
  },
  {
   "cell_type": "code",
   "execution_count": 2,
   "id": "f98493d0",
   "metadata": {},
   "outputs": [],
   "source": [
    "x_train = [[1, 2, 1, 1],  #4개의 특성을 가지고 8개의 샘플 존재\n",
    "           [2, 1, 3, 2],\n",
    "           [3, 1, 3, 4],\n",
    "           [4, 1, 5, 5],\n",
    "           [1, 7, 5, 5],\n",
    "           [1, 2, 5, 6],\n",
    "           [1, 6, 6, 6],\n",
    "           [1, 7, 7, 7],\n",
    "          ]\n",
    "y_train = [2, 2, 2, 1, 1, 1, 0, 0]  #3개의 클래스(0,1,2) 존재#3개의 클래스 존재\n",
    "x_train = torch.FloatTensor(x_train)\n",
    "y_train = torch.LongTensor(y_train) "
   ]
  },
  {
   "cell_type": "markdown",
   "id": "2499e7b3",
   "metadata": {},
   "source": [
    "### 1. 소프트맥스 회귀 구현하기 (로우-레벨)"
   ]
  },
  {
   "cell_type": "code",
   "execution_count": 3,
   "id": "c6bde226",
   "metadata": {},
   "outputs": [
    {
     "name": "stdout",
     "output_type": "stream",
     "text": [
      "torch.Size([8, 4])\n",
      "torch.Size([8])\n"
     ]
    }
   ],
   "source": [
    "print(x_train.shape)  #8x4\n",
    "print(y_train.shape)  #8x1 but 최종 사용할 레이블은 y_train에서 원-핫 인코딩한 결과여야 함. 8x3의 개수를 가져야 함."
   ]
  },
  {
   "cell_type": "code",
   "execution_count": 6,
   "id": "b4959260",
   "metadata": {},
   "outputs": [
    {
     "name": "stdout",
     "output_type": "stream",
     "text": [
      "tensor([[0., 0., 1.],\n",
      "        [0., 0., 1.],\n",
      "        [0., 0., 1.],\n",
      "        [0., 1., 0.],\n",
      "        [0., 1., 0.],\n",
      "        [0., 1., 0.],\n",
      "        [1., 0., 0.],\n",
      "        [1., 0., 0.]])\n",
      "torch.Size([8, 3])\n"
     ]
    }
   ],
   "source": [
    "y_one_hot = torch.zeros(8,3)\n",
    "y_one_hot.scatter_(1, y_train.unsqueeze(1), 1)\n",
    "print(y_one_hot)\n",
    "print(y_one_hot.shape)"
   ]
  },
  {
   "cell_type": "code",
   "execution_count": 7,
   "id": "b4bf0285",
   "metadata": {},
   "outputs": [],
   "source": [
    "# 모델 초기화\n",
    "W = torch.zeros((4, 3), requires_grad=True)  #W행렬의 크기는 4x3이어야 함\n",
    "b = torch.zeros(1, requires_grad=True)\n",
    "\n",
    "#optimizer 설정\n",
    "optimizer = optim.SGD([W, b], lr=0.1)  #경사 하강법 사용"
   ]
  },
  {
   "cell_type": "code",
   "execution_count": 9,
   "id": "98c57bb8",
   "metadata": {},
   "outputs": [
    {
     "name": "stdout",
     "output_type": "stream",
     "text": [
      "Epoch    0/1000  Cost: 1.098612\n",
      "Epoch  100/1000  Cost: 0.761050\n",
      "Epoch  200/1000  Cost: 0.689991\n",
      "Epoch  300/1000  Cost: 0.643229\n",
      "Epoch  400/1000  Cost: 0.604117\n",
      "Epoch  500/1000  Cost: 0.568255\n",
      "Epoch  600/1000  Cost: 0.533922\n",
      "Epoch  700/1000  Cost: 0.500291\n",
      "Epoch  800/1000  Cost: 0.466908\n",
      "Epoch  900/1000  Cost: 0.433507\n",
      "Epoch 1000/1000  Cost: 0.399962\n"
     ]
    }
   ],
   "source": [
    "nb_epochs = 1000\n",
    "for epoch in range(nb_epochs + 1):\n",
    "    #가설\n",
    "    hypothesis = F.softmax(x_train.matmul(W) + b, dim=1)\n",
    "    \n",
    "    #비용 함수\n",
    "    cost = (y_one_hot * -torch.log(hypothesis)).sum(dim=1).mean()\n",
    "    \n",
    "    #cost로 H(x) 개선\n",
    "    optimizer.zero_grad()\n",
    "    cost.backward()\n",
    "    optimizer.step()\n",
    "    \n",
    "    #100번마다 로그 출력\n",
    "    if epoch % 100 == 0:\n",
    "        print('Epoch {:4d}/{}  Cost: {:.6f}'.format(\n",
    "            epoch, nb_epochs, cost.item()\n",
    "        ))"
   ]
  },
  {
   "cell_type": "markdown",
   "id": "981f721e",
   "metadata": {},
   "source": [
    "### 2. 소프트맥스 회귀 구현하기 (하이-레벨)\n",
    "F.cross_entropy()는 그 자체로 소프트맥스 함수 포함하고 있으므로 가설에서 소프트맥스 함수 사용할 필요 x"
   ]
  },
  {
   "cell_type": "code",
   "execution_count": 11,
   "id": "426c1942",
   "metadata": {},
   "outputs": [
    {
     "name": "stdout",
     "output_type": "stream",
     "text": [
      "Epoch    0/1000  Cost: 1.098612\n",
      "Epoch  100/1000  Cost: 0.761050\n",
      "Epoch  200/1000  Cost: 0.689991\n",
      "Epoch  300/1000  Cost: 0.643229\n",
      "Epoch  400/1000  Cost: 0.604117\n",
      "Epoch  500/1000  Cost: 0.568255\n",
      "Epoch  600/1000  Cost: 0.533922\n",
      "Epoch  700/1000  Cost: 0.500291\n",
      "Epoch  800/1000  Cost: 0.466908\n",
      "Epoch  900/1000  Cost: 0.433507\n",
      "Epoch 1000/1000  Cost: 0.399962\n"
     ]
    }
   ],
   "source": [
    "# 모델 초기화\n",
    "W = torch.zeros((4, 3), requires_grad=True)  #W행렬의 크기는 4x3이어야 함\n",
    "b = torch.zeros(1, requires_grad=True)\n",
    "\n",
    "#optimizer 설정\n",
    "optimizer = optim.SGD([W, b], lr=0.1)  #경사 하강법 사용\n",
    "\n",
    "nb_epochs = 1000\n",
    "for epoch in range(nb_epochs + 1):\n",
    "    #가설 x\n",
    "    #hypothesis = F.softmax(x_train.matmul(W) + b, dim=1)\n",
    "    \n",
    "    #비용 함수\n",
    "    z = x_train.matmul(W) + b\n",
    "    cost = F.cross_entropy(z, y_train)\n",
    "    \n",
    "    #cost로 H(x) 개선\n",
    "    optimizer.zero_grad()\n",
    "    cost.backward()\n",
    "    optimizer.step()\n",
    "    \n",
    "    #100번마다 로그 출력\n",
    "    if epoch % 100 == 0:\n",
    "        print('Epoch {:4d}/{}  Cost: {:.6f}'.format(\n",
    "            epoch, nb_epochs, cost.item()\n",
    "        ))"
   ]
  },
  {
   "cell_type": "markdown",
   "id": "f80a8973",
   "metadata": {},
   "source": [
    "### 3. 소프트맥스 회귀 nn.Module로 구현하기\n",
    "선형 회귀에서 구현에 사용했던 nn.Linear() 사용. output_dim이 1이 아닌 클래스의 개수여야 함"
   ]
  },
  {
   "cell_type": "code",
   "execution_count": 12,
   "id": "be7a8197",
   "metadata": {},
   "outputs": [],
   "source": [
    "#모델을 선언 및 초기화. 4개의 특성을 가지고 3개의 클래스로 분류. input_dim=4, output_dim=3\n",
    "model = nn.Linear(4,3)"
   ]
  },
  {
   "cell_type": "code",
   "execution_count": 13,
   "id": "b40a498f",
   "metadata": {},
   "outputs": [
    {
     "name": "stdout",
     "output_type": "stream",
     "text": [
      "Epoch    0/1000  Cost: 0.385264\n",
      "Epoch  100/1000  Cost: 0.385264\n",
      "Epoch  200/1000  Cost: 0.385264\n",
      "Epoch  300/1000  Cost: 0.385264\n",
      "Epoch  400/1000  Cost: 0.385264\n",
      "Epoch  500/1000  Cost: 0.385264\n",
      "Epoch  600/1000  Cost: 0.385264\n",
      "Epoch  700/1000  Cost: 0.385264\n",
      "Epoch  800/1000  Cost: 0.385264\n",
      "Epoch  900/1000  Cost: 0.385264\n",
      "Epoch 1000/1000  Cost: 0.385264\n"
     ]
    }
   ],
   "source": [
    "#optimizer 설정\n",
    "optimizer = optim.SGD(model.parameters(), lr=0.1)  #경사 하강법 사용\n",
    "\n",
    "nb_epochs = 1000\n",
    "for epoch in range(nb_epochs + 1):\n",
    "    #비용 함수\n",
    "    z = x_train.matmul(W) + b\n",
    "    cost = F.cross_entropy(z, y_train)\n",
    "    \n",
    "    #cost로 H(x) 개선\n",
    "    optimizer.zero_grad()\n",
    "    cost.backward()\n",
    "    optimizer.step()\n",
    "    \n",
    "    #100번마다 로그 출력\n",
    "    if epoch % 100 == 0:\n",
    "        print('Epoch {:4d}/{}  Cost: {:.6f}'.format(\n",
    "            epoch, nb_epochs, cost.item()\n",
    "        ))"
   ]
  },
  {
   "cell_type": "markdown",
   "id": "a21376a7",
   "metadata": {},
   "source": [
    "### 4. 소프트맥스 회귀 클래스로 구현하기"
   ]
  },
  {
   "cell_type": "code",
   "execution_count": 15,
   "id": "1154717b",
   "metadata": {},
   "outputs": [],
   "source": [
    "class SoftmaxClassifierModel(nn.Module):\n",
    "    def __init__(self):\n",
    "        super().__init__()\n",
    "        self.linear = nn.Linear(4, 3) #Output이 3\n",
    "        \n",
    "    def forward(self, x):\n",
    "        return self.linear(x)\n",
    "    \n",
    "model = SoftmaxClassifierModel()"
   ]
  },
  {
   "cell_type": "code",
   "execution_count": 16,
   "id": "1911a0fd",
   "metadata": {},
   "outputs": [
    {
     "name": "stdout",
     "output_type": "stream",
     "text": [
      "Epoch    0/1000  Cost: 2.637636\n",
      "Epoch  100/1000  Cost: 0.647903\n",
      "Epoch  200/1000  Cost: 0.564643\n",
      "Epoch  300/1000  Cost: 0.511043\n",
      "Epoch  400/1000  Cost: 0.467249\n",
      "Epoch  500/1000  Cost: 0.428281\n",
      "Epoch  600/1000  Cost: 0.391924\n",
      "Epoch  700/1000  Cost: 0.356742\n",
      "Epoch  800/1000  Cost: 0.321577\n",
      "Epoch  900/1000  Cost: 0.285617\n",
      "Epoch 1000/1000  Cost: 0.250818\n"
     ]
    }
   ],
   "source": [
    "#optimizer 설정\n",
    "optimizer = optim.SGD(model.parameters(), lr=0.1)  #경사 하강법 사용\n",
    "\n",
    "nb_epochs = 1000\n",
    "for epoch in range(nb_epochs + 1):\n",
    "    #H(x) 계산\n",
    "    prediction = model(x_train)\n",
    "    \n",
    "    #비용 함수\n",
    "    cost = F.cross_entropy(prediction, y_train)\n",
    "    \n",
    "    #cost로 H(x) 개선\n",
    "    optimizer.zero_grad()\n",
    "    cost.backward()\n",
    "    optimizer.step()\n",
    "    \n",
    "    #100번마다 로그 출력\n",
    "    if epoch % 100 == 0:\n",
    "        print('Epoch {:4d}/{}  Cost: {:.6f}'.format(\n",
    "            epoch, nb_epochs, cost.item()\n",
    "        ))"
   ]
  },
  {
   "cell_type": "code",
   "execution_count": null,
   "id": "1d2f1aee",
   "metadata": {},
   "outputs": [],
   "source": []
  }
 ],
 "metadata": {
  "kernelspec": {
   "display_name": "Python 3",
   "language": "python",
   "name": "python3"
  },
  "language_info": {
   "codemirror_mode": {
    "name": "ipython",
    "version": 3
   },
   "file_extension": ".py",
   "mimetype": "text/x-python",
   "name": "python",
   "nbconvert_exporter": "python",
   "pygments_lexer": "ipython3",
   "version": "3.7.10"
  }
 },
 "nbformat": 4,
 "nbformat_minor": 5
}
