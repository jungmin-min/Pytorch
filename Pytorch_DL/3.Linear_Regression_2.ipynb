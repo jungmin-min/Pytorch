{
 "cells": [
  {
   "cell_type": "markdown",
   "id": "da49ae61",
   "metadata": {},
   "source": [
    "## 3-4. nn.Module로 구현하는 선형 회귀"
   ]
  },
  {
   "cell_type": "markdown",
   "id": "9af450fd",
   "metadata": {},
   "source": [
    "#선형 회귀 모델, 평균 제곱오차 내장 함수 사용 <br/>\n",
    "import torch.nn as nn <br/>\n",
    "model = nn.Linear(input_dim, output_dim) <br/>\n",
    "\n",
    "import torch.nn.functional as F <br/>\n",
    "cost = F.mse_loss(prediction, y_train) <br/>\n",
    "\n",
    "### 1. 단순 선형 회귀 구현하기"
   ]
  },
  {
   "cell_type": "code",
   "execution_count": 3,
   "id": "d912c4a2",
   "metadata": {},
   "outputs": [
    {
     "name": "stdout",
     "output_type": "stream",
     "text": [
      "[Parameter containing:\n",
      "tensor([[0.5153]], requires_grad=True), Parameter containing:\n",
      "tensor([-0.4414], requires_grad=True)]\n"
     ]
    }
   ],
   "source": [
    "import torch\n",
    "import torch.nn as nn\n",
    "import torch.nn.functional as F\n",
    "\n",
    "torch.manual_seed(1)\n",
    "\n",
    "#데이터\n",
    "x_train = torch.FloatTensor([[1], [2], [3]])\n",
    "y_train = torch.FloatTensor([[2], [4], [6]])\n",
    "\n",
    "#모델을 선언 및 초기화. 단순 선형 회귀이므로 input_dim=1, ouput_dim=1\n",
    "model = nn.Linear(1,1)\n",
    "print(list(model.parameters()))  #저장된 W, b 출력 (랜덤 초기화 되어져 있음)"
   ]
  },
  {
   "cell_type": "code",
   "execution_count": 5,
   "id": "c67238e9",
   "metadata": {},
   "outputs": [
    {
     "name": "stdout",
     "output_type": "stream",
     "text": [
      "Epoch    0/2000  Cost: 10.358571\n",
      "Epoch  100/2000  Cost: 0.002777\n",
      "Epoch  200/2000  Cost: 0.001716\n",
      "Epoch  300/2000  Cost: 0.001060\n",
      "Epoch  400/2000  Cost: 0.000655\n",
      "Epoch  500/2000  Cost: 0.000405\n",
      "Epoch  600/2000  Cost: 0.000250\n",
      "Epoch  700/2000  Cost: 0.000155\n",
      "Epoch  800/2000  Cost: 0.000096\n",
      "Epoch  900/2000  Cost: 0.000059\n",
      "Epoch 1000/2000  Cost: 0.000036\n",
      "Epoch 1100/2000  Cost: 0.000023\n",
      "Epoch 1200/2000  Cost: 0.000014\n",
      "Epoch 1300/2000  Cost: 0.000009\n",
      "Epoch 1400/2000  Cost: 0.000005\n",
      "Epoch 1500/2000  Cost: 0.000003\n",
      "Epoch 1600/2000  Cost: 0.000002\n",
      "Epoch 1700/2000  Cost: 0.000001\n",
      "Epoch 1800/2000  Cost: 0.000001\n",
      "Epoch 1900/2000  Cost: 0.000000\n",
      "Epoch 2000/2000  Cost: 0.000000\n"
     ]
    }
   ],
   "source": [
    "#optimizer 설정. 경사 하강법 SGD 사용, learning rate=0.01\n",
    "optimizer = torch.optim.SGD(model.parameters(), lr=0.01)\n",
    "\n",
    "#전체 훈련 데이터에 대해 경사 하강법을 2000회 반복\n",
    "nb_epochs = 2000\n",
    "for epoch in range(nb_epochs+1):\n",
    "    #H(x) 계산\n",
    "    prediction = model(x_train)\n",
    "    \n",
    "    #cost 계산\n",
    "    cost = F.mse_loss(prediction, y_train)\n",
    "    \n",
    "    #cost로 H(x) 개선\n",
    "    optimizer.zero_grad()\n",
    "    cost.backward()\n",
    "    optimizer.step()\n",
    "    \n",
    "    if epoch % 100 == 0:\n",
    "        print(\"Epoch {:4d}/{}  Cost: {:.6f}\".format(\n",
    "            epoch, nb_epochs, cost.item()\n",
    "        ))"
   ]
  },
  {
   "cell_type": "code",
   "execution_count": 6,
   "id": "036c506d",
   "metadata": {},
   "outputs": [
    {
     "name": "stdout",
     "output_type": "stream",
     "text": [
      "훈련 후 입력이 4일 때의 예측값:  tensor([[7.9989]], grad_fn=<AddmmBackward>)\n"
     ]
    }
   ],
   "source": [
    "#임의의 입력 4를 선언\n",
    "new_var = torch.FloatTensor([[4.0]])\n",
    "#입력한 값 4에 대해서 예측값 y를 리턴받아서 pred_y에 저장\n",
    "pred_y = model(new_var) #forward 연산\n",
    "#y = 2x 이므로 입력이 4라면 y가 8에 가까운 값이 나와야 제대로 학습이 된 것\n",
    "print(\"훈련 후 입력이 4일 때의 예측값: \", pred_y)"
   ]
  },
  {
   "cell_type": "code",
   "execution_count": 7,
   "id": "83ee20b7",
   "metadata": {},
   "outputs": [
    {
     "name": "stdout",
     "output_type": "stream",
     "text": [
      "[Parameter containing:\n",
      "tensor([[1.9994]], requires_grad=True), Parameter containing:\n",
      "tensor([0.0014], requires_grad=True)]\n"
     ]
    }
   ],
   "source": [
    "#학습 후의 W와 b 출력 (W는 2에, b는 0에 가깝게 출력됨)\n",
    "print(list(model.parameters()))"
   ]
  },
  {
   "cell_type": "markdown",
   "id": "ad5c3cf6",
   "metadata": {},
   "source": [
    "### 2. 다중 선형 회귀 구현하기"
   ]
  },
  {
   "cell_type": "code",
   "execution_count": 13,
   "id": "340cfab1",
   "metadata": {},
   "outputs": [
    {
     "name": "stdout",
     "output_type": "stream",
     "text": [
      "[Parameter containing:\n",
      "tensor([[ 0.2975, -0.2548, -0.1119]], requires_grad=True), Parameter containing:\n",
      "tensor([0.2710], requires_grad=True)]\n"
     ]
    }
   ],
   "source": [
    "torch.manual_seed(1)\n",
    "#데이터\n",
    "x_train = torch.FloatTensor([[73, 80, 75],\n",
    "                              [93, 88, 93],\n",
    "                              [89, 91, 80],\n",
    "                              [96, 98, 100],\n",
    "                              [73, 66, 70]])\n",
    "y_train = torch.FloatTensor([[152], [185], [180], [196], [142]])\n",
    "\n",
    "#모델을 선언 및 초기화. 다중 선형 회귀이므로 input_dim=3, ouput_dim=1\n",
    "model = nn.Linear(3,1)\n",
    "print(list(model.parameters()))"
   ]
  },
  {
   "cell_type": "code",
   "execution_count": 14,
   "id": "b7d20749",
   "metadata": {},
   "outputs": [
    {
     "name": "stdout",
     "output_type": "stream",
     "text": [
      "Epoch    0/2000  Cost: 31584.347656\n",
      "Epoch  100/2000  Cost: 4.054821\n",
      "Epoch  200/2000  Cost: 3.807917\n",
      "Epoch  300/2000  Cost: 3.577585\n",
      "Epoch  400/2000  Cost: 3.362663\n",
      "Epoch  500/2000  Cost: 3.162074\n",
      "Epoch  600/2000  Cost: 2.974864\n",
      "Epoch  700/2000  Cost: 2.800040\n",
      "Epoch  800/2000  Cost: 2.636795\n",
      "Epoch  900/2000  Cost: 2.484290\n",
      "Epoch 1000/2000  Cost: 2.341803\n",
      "Epoch 1100/2000  Cost: 2.208674\n",
      "Epoch 1200/2000  Cost: 2.084196\n",
      "Epoch 1300/2000  Cost: 1.967848\n",
      "Epoch 1400/2000  Cost: 1.859023\n",
      "Epoch 1500/2000  Cost: 1.757193\n",
      "Epoch 1600/2000  Cost: 1.661925\n",
      "Epoch 1700/2000  Cost: 1.572760\n",
      "Epoch 1800/2000  Cost: 1.489271\n",
      "Epoch 1900/2000  Cost: 1.411090\n",
      "Epoch 2000/2000  Cost: 1.337826\n"
     ]
    }
   ],
   "source": [
    "#optimizer 설정. 경사 하강법 SGD 사용, learning rate=0.00001 (학습률이 모델의 필요 크기보다 크면 기울기 발산함)\n",
    "optimizer = torch.optim.SGD(model.parameters(), lr=1e-5)\n",
    "\n",
    "#전체 훈련 데이터에 대해 경사 하강법을 2000회 반복\n",
    "nb_epochs = 2000\n",
    "for epoch in range(nb_epochs+1):\n",
    "    #H(x) 계산\n",
    "    prediction = model(x_train)\n",
    "    \n",
    "    #cost 계산\n",
    "    cost = F.mse_loss(prediction, y_train)\n",
    "    \n",
    "    #cost로 H(x) 개선\n",
    "    optimizer.zero_grad()\n",
    "    cost.backward()\n",
    "    optimizer.step()\n",
    "    \n",
    "    if epoch % 100 == 0:\n",
    "        print(\"Epoch {:4d}/{}  Cost: {:.6f}\".format(\n",
    "            epoch, nb_epochs, cost.item()\n",
    "        ))"
   ]
  },
  {
   "cell_type": "code",
   "execution_count": 16,
   "id": "1d10c777",
   "metadata": {},
   "outputs": [
    {
     "name": "stdout",
     "output_type": "stream",
     "text": [
      "훈련 후 입력이 73, 80, 75일 때의 예측값:  tensor([[152.5655]], grad_fn=<AddmmBackward>)\n"
     ]
    }
   ],
   "source": [
    "#임의의 입력 [73, 80, 75]를 선언\n",
    "new_var = torch.FloatTensor([[73, 80, 75]])\n",
    "#입력한 값에 대해 예측값 y를 리턴받아 pred_y에 저장\n",
    "pred_y = model(new_var)\n",
    "print('훈련 후 입력이 73, 80, 75일 때의 예측값: ',pred_y)"
   ]
  },
  {
   "cell_type": "code",
   "execution_count": 17,
   "id": "4dab2146",
   "metadata": {},
   "outputs": [
    {
     "name": "stdout",
     "output_type": "stream",
     "text": [
      "[Parameter containing:\n",
      "tensor([[1.0551, 0.5767, 0.3883]], requires_grad=True), Parameter containing:\n",
      "tensor([0.2791], requires_grad=True)]\n"
     ]
    }
   ],
   "source": [
    "#학습 후의 W와 b 출력\n",
    "print(list(model.parameters()))"
   ]
  },
  {
   "cell_type": "code",
   "execution_count": null,
   "id": "a152ff5b",
   "metadata": {},
   "outputs": [],
   "source": []
  }
 ],
 "metadata": {
  "kernelspec": {
   "display_name": "Python 3",
   "language": "python",
   "name": "python3"
  },
  "language_info": {
   "codemirror_mode": {
    "name": "ipython",
    "version": 3
   },
   "file_extension": ".py",
   "mimetype": "text/x-python",
   "name": "python",
   "nbconvert_exporter": "python",
   "pygments_lexer": "ipython3",
   "version": "3.7.10"
  }
 },
 "nbformat": 4,
 "nbformat_minor": 5
}
