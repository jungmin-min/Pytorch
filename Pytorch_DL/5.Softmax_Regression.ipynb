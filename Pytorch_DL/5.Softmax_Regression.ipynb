{
 "cells": [
  {
   "cell_type": "markdown",
   "id": "37f00d27",
   "metadata": {},
   "source": [
    "# 5. 소프트맥스 회귀(Softmax Regression)\n",
    "## 5-1. 원-핫 인코딩(One-Hot Encoding)\n",
    "선택해야 하는 선택지의 개수만큼의 차원을 가지면서, 각 선택지의 인덱스에 해당하는 원소에는 1, 나머지 원소에는 0의 값을 가지도록 하는 표현 방법"
   ]
  },
  {
   "cell_type": "markdown",
   "id": "f5b8f83a",
   "metadata": {},
   "source": [
    "## 5-2. 소프트맥스 회귀(Softmax Regression) 이해하기\n",
    "로지스틱 회귀 - 이진분류 / 소프트맥스 회귀 - 다중 클래스 분류 <br/>\n",
    "\n",
    "### 1. 다중 클래스 분류\n",
    "#### 1. 로지스틱 회귀\n",
    "시그모이드 함수로 예측값을 0과 1 사이의 값으로 만듦. <br/>\n",
    "가설: H(X) = sigmoid(WX + B) <br/>\n",
    "#### 2. 소프트맥스 회귀\n",
    "확률의 총 합이 1이 되도록, 각 클래스마다 소수 확률을 할당함. <br/>\n",
    "가설: H(X) = softmax(WX + B) <br/>"
   ]
  },
  {
   "cell_type": "markdown",
   "id": "d52f0d50",
   "metadata": {},
   "source": [
    "### 2. 소프트맥스 함수(Softmax function)\n",
    "k차원의 벡터를 입력받아 각 클래스에 대한 확률을 추정함\n",
    "### 3. 붓꽃 품종 분류하기 행렬 연산으로 이해하기\n",
    "### 4. 비용 함수(Cost function)\n",
    "소프트맥스 회귀에서는 비용함수로 크로스 엔트로피 함수 사용 <br/>\n",
    "로지스틱 회귀에서의 크로스 엔트로피 함수식과 동일한데 2 대신 k가 들어감"
   ]
  },
  {
   "cell_type": "markdown",
   "id": "be5be3d5",
   "metadata": {},
   "source": [
    "## 5-3. 소프트맥스 회귀의 비용 함수 구현하기"
   ]
  },
  {
   "cell_type": "code",
   "execution_count": 1,
   "id": "2a7ddc3d",
   "metadata": {},
   "outputs": [
    {
     "data": {
      "text/plain": [
       "<torch._C.Generator at 0x7fae801825f0>"
      ]
     },
     "execution_count": 1,
     "metadata": {},
     "output_type": "execute_result"
    }
   ],
   "source": [
    "import torch\n",
    "import torch.nn.functional as F\n",
    "\n",
    "torch.manual_seed(1)"
   ]
  },
  {
   "cell_type": "markdown",
   "id": "d4215a88",
   "metadata": {},
   "source": [
    "### 1. 파이토치로 소프트맥스의 비용 함수 구현하기 (로우-레벨)"
   ]
  },
  {
   "cell_type": "code",
   "execution_count": 3,
   "id": "ee1b978f",
   "metadata": {},
   "outputs": [
    {
     "name": "stdout",
     "output_type": "stream",
     "text": [
      "tensor([0.0900, 0.2447, 0.6652])\n"
     ]
    },
    {
     "data": {
      "text/plain": [
       "tensor(1.)"
      ]
     },
     "execution_count": 3,
     "metadata": {},
     "output_type": "execute_result"
    }
   ],
   "source": [
    "z = torch.FloatTensor([1, 2, 3])\n",
    "\n",
    "hypothesis = F.softmax(z, dim=0)  #3개의 원소의 값이 0~1 사이의 값을 가지는 벡터로 변환됨\n",
    "print(hypothesis)\n",
    "hypothesis.sum()  #변환된 벡터들의 합은 1"
   ]
  },
  {
   "cell_type": "code",
   "execution_count": 4,
   "id": "ca29d199",
   "metadata": {},
   "outputs": [
    {
     "name": "stdout",
     "output_type": "stream",
     "text": [
      "tensor([[0.2645, 0.1639, 0.1855, 0.2585, 0.1277],\n",
      "        [0.2430, 0.1624, 0.2322, 0.1930, 0.1694],\n",
      "        [0.2226, 0.1986, 0.2326, 0.1594, 0.1868]], grad_fn=<SoftmaxBackward>)\n"
     ]
    }
   ],
   "source": [
    "#비용함수 직접 구현\n",
    "z = torch.rand(3, 5, requires_grad=True) #행 개수 3, 최대값 5\n",
    "\n",
    "hypothesis = F.softmax(z, dim=1)\n",
    "print(hypothesis)"
   ]
  },
  {
   "cell_type": "code",
   "execution_count": 5,
   "id": "4b06656c",
   "metadata": {},
   "outputs": [
    {
     "name": "stdout",
     "output_type": "stream",
     "text": [
      "tensor([0, 2, 1])\n"
     ]
    }
   ],
   "source": [
    "# 각 샘플에 대해 임의의 레이블(정답) 만듦\n",
    "y = torch.randint(5, (3,)).long()  #최대값 5, 크기 3(tuple)\n",
    "print(y)"
   ]
  },
  {
   "cell_type": "code",
   "execution_count": 9,
   "id": "1be80485",
   "metadata": {},
   "outputs": [
    {
     "data": {
      "text/plain": [
       "tensor([[1., 0., 0., 0., 0.],\n",
       "        [0., 0., 1., 0., 0.],\n",
       "        [0., 1., 0., 0., 0.]])"
      ]
     },
     "execution_count": 9,
     "metadata": {},
     "output_type": "execute_result"
    }
   ],
   "source": [
    "# 각 레이블에 대해 원-핫 인코딩 수행\n",
    "y_one_hot = torch.zeros_like(hypothesis)  # hypothesis와 같은 형태의 3X5 텐서 생성\n",
    "y_one_hot.scatter_(1, y.unsqueeze(1), 1)  # 첫번째 인자로 dim=1에 대해 수행\n",
    "# 세번째 인자로 두번째 인자인 y_unsqueeze(1)이 알려주는 위치에 숫자 1을 넣도록 함."
   ]
  },
  {
   "cell_type": "code",
   "execution_count": 10,
   "id": "4ade8c36",
   "metadata": {},
   "outputs": [
    {
     "name": "stdout",
     "output_type": "stream",
     "text": [
      "tensor([[0],\n",
      "        [2],\n",
      "        [1]])\n",
      "tensor([[1., 0., 0., 0., 0.],\n",
      "        [0., 0., 1., 0., 0.],\n",
      "        [0., 1., 0., 0., 0.]])\n"
     ]
    }
   ],
   "source": [
    "print(y.unsqueeze(1)) #(3,)의 크기를 가졌던 y 텐서는 (3x1)텐서가 됨. 특정 위치에 1인 차원을 추가한다\n",
    "print(y_one_hot)"
   ]
  },
  {
   "cell_type": "code",
   "execution_count": 11,
   "id": "6fae1464",
   "metadata": {},
   "outputs": [
    {
     "name": "stdout",
     "output_type": "stream",
     "text": [
      "tensor(1.4689, grad_fn=<MeanBackward0>)\n"
     ]
    }
   ],
   "source": [
    "cost = (y_one_hot * -torch.log(hypothesis)).sum(dim=1).mean()\n",
    "print(cost)"
   ]
  },
  {
   "cell_type": "markdown",
   "id": "2ab161ea",
   "metadata": {},
   "source": [
    "### 2. 파이토치로 소프트맥스의 비용 함수 구현하기 (하이-레벨)"
   ]
  },
  {
   "cell_type": "code",
   "execution_count": 12,
   "id": "cfad6917",
   "metadata": {},
   "outputs": [
    {
     "data": {
      "text/plain": [
       "tensor([[-1.3301, -1.8084, -1.6846, -1.3530, -2.0584],\n",
       "        [-1.4147, -1.8174, -1.4602, -1.6450, -1.7758],\n",
       "        [-1.5025, -1.6165, -1.4586, -1.8360, -1.6776]], grad_fn=<LogBackward>)"
      ]
     },
     "execution_count": 12,
     "metadata": {},
     "output_type": "execute_result"
    }
   ],
   "source": [
    "# 1. F.softmax() = torch.log() = F.log_softmax() #소프트맥스 함수\n",
    "#Low level\n",
    "torch.log(F.softmax(z, dim=1))"
   ]
  },
  {
   "cell_type": "code",
   "execution_count": 13,
   "id": "14f2d038",
   "metadata": {},
   "outputs": [
    {
     "data": {
      "text/plain": [
       "tensor([[-1.3301, -1.8084, -1.6846, -1.3530, -2.0584],\n",
       "        [-1.4147, -1.8174, -1.4602, -1.6450, -1.7758],\n",
       "        [-1.5025, -1.6165, -1.4586, -1.8360, -1.6776]],\n",
       "       grad_fn=<LogSoftmaxBackward>)"
      ]
     },
     "execution_count": 13,
     "metadata": {},
     "output_type": "execute_result"
    }
   ],
   "source": [
    "#High level\n",
    "F.log_softmax(z, dim=1) #torch.log(F.softmax())와 F.log_softmax()와 동일한 결과"
   ]
  },
  {
   "cell_type": "code",
   "execution_count": 18,
   "id": "b4a0c2db",
   "metadata": {},
   "outputs": [
    {
     "data": {
      "text/plain": [
       "tensor(1.4689, grad_fn=<MeanBackward0>)"
      ]
     },
     "execution_count": 18,
     "metadata": {},
     "output_type": "execute_result"
    }
   ],
   "source": [
    "# 2. F.log_softmax() + F.nll_loss() = F.cross_entropy() #비용 함수\n",
    "#Low level\n",
    "#첫번째 수식\n",
    "(y_one_hot * -torch.log(F.softmax(z, dim=1))).sum(dim=1).mean()"
   ]
  },
  {
   "cell_type": "code",
   "execution_count": 19,
   "id": "20cdda2f",
   "metadata": {},
   "outputs": [
    {
     "data": {
      "text/plain": [
       "tensor(1.4689, grad_fn=<MeanBackward0>)"
      ]
     },
     "execution_count": 19,
     "metadata": {},
     "output_type": "execute_result"
    }
   ],
   "source": [
    "#두번째 수식\n",
    "(y_one_hot * -F.log_softmax(z, dim=1)).sum(dim=1).mean()"
   ]
  },
  {
   "cell_type": "code",
   "execution_count": 20,
   "id": "03d19c29",
   "metadata": {},
   "outputs": [
    {
     "data": {
      "text/plain": [
       "tensor(1.4689, grad_fn=<NllLossBackward>)"
      ]
     },
     "execution_count": 20,
     "metadata": {},
     "output_type": "execute_result"
    }
   ],
   "source": [
    "#High level\n",
    "#세번째 수식\n",
    "F.nll_loss(F.log_softmax(z, dim=1), y)  #nll = Negative Log Likelihood"
   ]
  },
  {
   "cell_type": "code",
   "execution_count": 21,
   "id": "3de06915",
   "metadata": {},
   "outputs": [
    {
     "data": {
      "text/plain": [
       "tensor(1.4689, grad_fn=<NllLossBackward>)"
      ]
     },
     "execution_count": 21,
     "metadata": {},
     "output_type": "execute_result"
    }
   ],
   "source": [
    "#네번째 수식\n",
    "F.cross_entropy(z, y)  #비용 함수에 소프트맥스 함수까지 포함되어 있음"
   ]
  },
  {
   "cell_type": "code",
   "execution_count": null,
   "id": "49d70d54",
   "metadata": {},
   "outputs": [],
   "source": []
  }
 ],
 "metadata": {
  "kernelspec": {
   "display_name": "Python 3",
   "language": "python",
   "name": "python3"
  },
  "language_info": {
   "codemirror_mode": {
    "name": "ipython",
    "version": 3
   },
   "file_extension": ".py",
   "mimetype": "text/x-python",
   "name": "python",
   "nbconvert_exporter": "python",
   "pygments_lexer": "ipython3",
   "version": "3.7.10"
  }
 },
 "nbformat": 4,
 "nbformat_minor": 5
}
