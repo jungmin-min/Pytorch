{
 "cells": [
  {
   "cell_type": "markdown",
   "id": "1b8e9cd7",
   "metadata": {},
   "source": [
    "## 6-5. XOR 문제 - 다층 퍼셉트론 구현하기\n",
    "### 1. 파이토치로 다층 퍼셉트론 구현하기"
   ]
  },
  {
   "cell_type": "code",
   "execution_count": 1,
   "id": "6e8a18f0",
   "metadata": {},
   "outputs": [],
   "source": [
    "import torch\n",
    "import torch.nn as nn"
   ]
  },
  {
   "cell_type": "code",
   "execution_count": 2,
   "id": "bab04ef7",
   "metadata": {},
   "outputs": [],
   "source": [
    "device = 'cuda' if torch.cuda.is_available() else 'cpu'\n",
    "\n",
    "#for erproducibility\n",
    "torch.manual_seed(777)\n",
    "if device == 'cuda':\n",
    "    torch.cuda.manual_seed_all(777)"
   ]
  },
  {
   "cell_type": "code",
   "execution_count": 3,
   "id": "ddf67bb5",
   "metadata": {},
   "outputs": [],
   "source": [
    "# XOR 문제에 해당되는 입력과 출력 정의\n",
    "X = torch.FloatTensor([[0,0], [0,1], [1,0], [1,1]]).to(device)\n",
    "Y = torch.FloatTensor([[0], [1], [1], [0]]).to(device)"
   ]
  },
  {
   "cell_type": "code",
   "execution_count": 4,
   "id": "e056baa7",
   "metadata": {},
   "outputs": [],
   "source": [
    "# 다층 퍼셉트론 설계\n",
    "model = nn.Sequential(\n",
    "    nn.Linear(2, 10, bias=True), #input_layer=2, hidden_layer1=10\n",
    "    nn.Sigmoid(),\n",
    "    nn.Linear(10, 10, bias=True), #hidden_layer1=10, hidden_layer2=10\n",
    "    nn.Sigmoid(),\n",
    "    nn.Linear(10, 10, bias=True), #hidden_layer2=10, hidden_layer3=10\n",
    "    nn.Sigmoid(),\n",
    "    nn.Linear(10, 1, bias=True), #hidden_layer3=10, output_layer=1\n",
    "    nn.Sigmoid()\n",
    ").to(device)"
   ]
  },
  {
   "cell_type": "code",
   "execution_count": 5,
   "id": "4aec6a4e",
   "metadata": {},
   "outputs": [],
   "source": [
    "# 비용함수와 옵티마이저 선언\n",
    "criterion = torch.nn.BCELoss().to(device) #nn.BCELoss()는 이진 분류에서 사용하는 크로스엔트로피 함수\n",
    "optimizer = torch.optim.SGD(model.parameters(), lr=1) #modified learning rate from 0.1 to 1"
   ]
  },
  {
   "cell_type": "code",
   "execution_count": 6,
   "id": "399a69cb",
   "metadata": {},
   "outputs": [
    {
     "name": "stdout",
     "output_type": "stream",
     "text": [
      "0 0.6948983669281006\n",
      "100 0.693155825138092\n",
      "200 0.6931535005569458\n",
      "300 0.6931513547897339\n",
      "400 0.6931493282318115\n",
      "500 0.6931473016738892\n",
      "600 0.6931453943252563\n",
      "700 0.6931434869766235\n",
      "800 0.6931415796279907\n",
      "900 0.6931397318840027\n",
      "1000 0.6931380033493042\n",
      "1100 0.6931362152099609\n",
      "1200 0.6931343078613281\n",
      "1300 0.6931324005126953\n",
      "1400 0.6931304931640625\n",
      "1500 0.6931284070014954\n",
      "1600 0.6931263208389282\n",
      "1700 0.6931242346763611\n",
      "1800 0.6931220293045044\n",
      "1900 0.6931195855140686\n",
      "2000 0.6931171417236328\n",
      "2100 0.6931143999099731\n",
      "2200 0.6931115984916687\n",
      "2300 0.6931084394454956\n",
      "2400 0.6931050419807434\n",
      "2500 0.6931013464927673\n",
      "2600 0.6930973529815674\n",
      "2700 0.693092942237854\n",
      "2800 0.6930879950523376\n",
      "2900 0.6930823922157288\n",
      "3000 0.6930762529373169\n",
      "3100 0.6930690407752991\n",
      "3200 0.6930609941482544\n",
      "3300 0.6930516958236694\n",
      "3400 0.6930409073829651\n",
      "3500 0.6930281519889832\n",
      "3600 0.6930128931999207\n",
      "3700 0.6929945945739746\n",
      "3800 0.6929723024368286\n",
      "3900 0.6929444074630737\n",
      "4000 0.6929091811180115\n",
      "4100 0.6928634643554688\n",
      "4200 0.6928026080131531\n",
      "4300 0.692719042301178\n",
      "4400 0.6925997138023376\n",
      "4500 0.6924210786819458\n",
      "4600 0.6921367049217224\n",
      "4700 0.691646158695221\n",
      "4800 0.6906979084014893\n",
      "4900 0.6885157227516174\n",
      "5000 0.6817011833190918\n",
      "5100 0.6447849869728088\n",
      "5200 1.2370712757110596\n",
      "5300 0.04009757563471794\n",
      "5400 0.009628855623304844\n",
      "5500 0.005001121200621128\n",
      "5600 0.0032804987858980894\n",
      "5700 0.0024070446379482746\n",
      "5800 0.001885732403025031\n",
      "5900 0.0015421281568706036\n",
      "6000 0.0012998369056731462\n",
      "6100 0.0011204408947378397\n",
      "6200 0.0009826193563640118\n",
      "6300 0.000873661832883954\n",
      "6400 0.0007855353178456426\n",
      "6500 0.0007127911085262895\n",
      "6600 0.0006518918089568615\n",
      "6700 0.0006001215660944581\n",
      "6800 0.0005556597025133669\n",
      "6900 0.0005170294316485524\n",
      "7000 0.00048323103692382574\n",
      "7100 0.0004534441395662725\n",
      "7200 0.0004269079945515841\n",
      "7300 0.00040320499101653695\n",
      "7400 0.0003818877157755196\n",
      "7500 0.0003625981626100838\n",
      "7600 0.00034512762795202434\n",
      "7700 0.0003291778266429901\n",
      "7800 0.0003145698574371636\n",
      "7900 0.00030115453409962356\n",
      "8000 0.00028882751939818263\n",
      "8100 0.0002773950109258294\n",
      "8200 0.000266812217887491\n",
      "8300 0.00025695987278595567\n",
      "8400 0.0002477932721376419\n",
      "8500 0.00023920803505461663\n",
      "8600 0.00023120417608879507\n",
      "8700 0.00022369223006535321\n",
      "8800 0.00021661256323568523\n",
      "8900 0.00020996519015170634\n",
      "9000 0.00020369046251289546\n",
      "9100 0.00019775857799686491\n",
      "9200 0.00019218440866097808\n",
      "9300 0.00018687857664190233\n",
      "9400 0.0001818559248931706\n",
      "9500 0.00017707176448311657\n",
      "9600 0.00017255589773412794\n",
      "9700 0.00016821888857521117\n",
      "9800 0.00016413527191616595\n",
      "9900 0.00016018579481169581\n",
      "10000 0.0001564450067235157\n"
     ]
    }
   ],
   "source": [
    "for epoch in range(10001):\n",
    "    optimizer.zero_grad()\n",
    "    #forward 연산\n",
    "    hypothesis = model(X)\n",
    "    \n",
    "    #비용 함수\n",
    "    cost = criterion(hypothesis, Y)\n",
    "    cost.backward()\n",
    "    optimizer.step()\n",
    "    \n",
    "    if epoch % 100 == 0:\n",
    "        print(epoch, cost.item())"
   ]
  },
  {
   "cell_type": "markdown",
   "id": "07e38cbf",
   "metadata": {},
   "source": [
    "### 2. 학습된 다층 퍼셉트론의 예측값 확인하기"
   ]
  },
  {
   "cell_type": "code",
   "execution_count": 7,
   "id": "837491fb",
   "metadata": {},
   "outputs": [
    {
     "name": "stdout",
     "output_type": "stream",
     "text": [
      "모델의 출력값(Hypothesis):  [[1.1180725e-04]\n",
      " [9.9982882e-01]\n",
      " [9.9984229e-01]\n",
      " [1.8483389e-04]]\n",
      "모델의 예측값(Predicted):  [[0.]\n",
      " [1.]\n",
      " [1.]\n",
      " [0.]]\n",
      "실제값(Y):  [[0.]\n",
      " [1.]\n",
      " [1.]\n",
      " [0.]]\n",
      "정확도(Accuracy):  1.0\n"
     ]
    }
   ],
   "source": [
    "with torch.no_grad():\n",
    "    hypothesis = model(X)\n",
    "    predicted = (hypothesis > 0.5).float()\n",
    "    accuracy = (predicted == Y).float().mean()\n",
    "    print('모델의 출력값(Hypothesis): ', hypothesis.detach().cpu().numpy())\n",
    "    print('모델의 예측값(Predicted): ', predicted.detach().cpu().numpy())\n",
    "    print('실제값(Y): ', Y.cpu().numpy())\n",
    "    print('정확도(Accuracy): ', accuracy.item()) #6-4와 다르게 문제 해결하는 것을 확인할 수 있음."
   ]
  },
  {
   "cell_type": "code",
   "execution_count": null,
   "id": "894b71ef",
   "metadata": {},
   "outputs": [],
   "source": []
  }
 ],
 "metadata": {
  "kernelspec": {
   "display_name": "Python 3.7.10 64-bit",
   "language": "python",
   "name": "python3710jvsc74a57bd0767d51c1340bd893661ea55ea3124f6de3c7a262a8b4abca0554b478b1e2ff90"
  },
  "language_info": {
   "codemirror_mode": {
    "name": "ipython",
    "version": 3
   },
   "file_extension": ".py",
   "mimetype": "text/x-python",
   "name": "python",
   "nbconvert_exporter": "python",
   "pygments_lexer": "ipython3",
   "version": "3.7.10"
  }
 },
 "nbformat": 4,
 "nbformat_minor": 5
}
