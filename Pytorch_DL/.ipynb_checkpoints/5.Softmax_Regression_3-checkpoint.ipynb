{
 "cells": [
  {
   "cell_type": "markdown",
   "id": "a4f9ff92",
   "metadata": {},
   "source": [
    "## 5-5. 소프트맥스 회귀로 MNIST 데이터 분류하기\n",
    "### 1. MNIST 데이터 이해하기\n",
    "숫자 0~9까지의 이미지로 구성된 손글씨 데이터셋 <br/>\n",
    "총 60,000개의 훈련 데이터와 레이블, 총 10,000개의 테스트 데이터와 레이블로 구성되어져 있음. <br/>\n",
    "각 이미지당 28픽셀 x 28 픽셀 = 784 픽셀이므로 784차원의 벡터로 만들어야 함"
   ]
  },
  {
   "cell_type": "code",
   "execution_count": null,
   "id": "cd3b5cff",
   "metadata": {},
   "outputs": [],
   "source": [
    "for X, Y in data_loader:\n",
    "    #입력 이미지를 [batch_size x 784]의 크기로 reshape\n",
    "    #레이블은 원-핫 인코딩\n",
    "    X = X.view(-1, 28*28)\n",
    "#X는 for문에서 호출될 때 (배치크기x1x28x28)의 크기를 가지지만, view를 통해서 (배치크기x784)의 크기로 변환됨"
   ]
  },
  {
   "cell_type": "markdown",
   "id": "5f93e43f",
   "metadata": {},
   "source": [
    "### 2. 토치비전(torchvision) 소개하기\n",
    "### 3. 분류기 구현을 위한 사전 설정"
   ]
  },
  {
   "cell_type": "code",
   "execution_count": 1,
   "id": "0e49faf4",
   "metadata": {},
   "outputs": [
    {
     "name": "stdout",
     "output_type": "stream",
     "text": [
      "다음 기기로 학습합니다:  cuda\n"
     ]
    }
   ],
   "source": [
    "import torch\n",
    "import torchvision.datasets as dsets\n",
    "import torchvision.transforms as transforms\n",
    "from torch.utils.data import DataLoader\n",
    "import torch.nn as nn\n",
    "import matplotlib.pyplot as plt\n",
    "import random\n",
    "\n",
    "#GPU 연산으로\n",
    "USE_CUDA = torch.cuda.is_available() # GPU를 사용가능하면 True, 아니라면 False를 리턴\n",
    "device = torch.device(\"cuda\" if USE_CUDA else \"cpu\") # GPU 사용 가능하면 사용하고 아니면 CPU 사용\n",
    "print(\"다음 기기로 학습합니다: \", device)"
   ]
  },
  {
   "cell_type": "code",
   "execution_count": 2,
   "id": "a6447750",
   "metadata": {},
   "outputs": [],
   "source": [
    "#랜덤시드 고정\n",
    "random.seed(777)\n",
    "torch.manual_seed(777)\n",
    "if device == 'cuda':\n",
    "    torch.cuda.manual_seed_all(777)\n",
    "    \n",
    "#hyperparameters\n",
    "training_epochs = 15\n",
    "batch_size = 100"
   ]
  },
  {
   "cell_type": "markdown",
   "id": "98b65be3",
   "metadata": {},
   "source": [
    "### 4. MNIST 분류기 구현하기"
   ]
  },
  {
   "cell_type": "code",
   "execution_count": 3,
   "id": "7affcb8d",
   "metadata": {},
   "outputs": [],
   "source": [
    "#MNIST dataset\n",
    "mnist_train = dsets.MNIST(root='MNIST_data/',\n",
    "                          train=True,\n",
    "                          transform=transforms.ToTensor(),\n",
    "                          download=True)\n",
    "\n",
    "mnist_test = dsets.MNIST(root='MNIST_data/',\n",
    "                         train=False,\n",
    "                         transform=transforms.ToTensor(),\n",
    "                         download=True)"
   ]
  },
  {
   "cell_type": "code",
   "execution_count": 4,
   "id": "afcff69a",
   "metadata": {},
   "outputs": [],
   "source": [
    "#dataset loader\n",
    "#datset: 로드할 대상, batch_size: 배치크기, shuffle: 매 epoch마다 미니 배치를 셔플할 것인지 여부, drop_last: 마지막 배치를 버릴 것인지\n",
    "data_loader = DataLoader(dataset=mnist_train, batch_size=batch_size, shuffle=True, drop_last=True)\n",
    "# 마지막 배치를 버림으로써 다른 미니 배치보다 개수가 적은 마지막 배치를 경사 하강법에 사용하여 마지막 배치가 상대적으로 과대 평가되는 현상을 막아줌"
   ]
  },
  {
   "cell_type": "code",
   "execution_count": 5,
   "id": "f28bfb28",
   "metadata": {},
   "outputs": [],
   "source": [
    "#모델 설계\n",
    "#MNIST data image of shape 28*28=784\n",
    "linear = nn.Linear(784, 10, bias=True).to(device) #to(): 연산을 어디서 수행할지"
   ]
  },
  {
   "cell_type": "code",
   "execution_count": 6,
   "id": "7e11b5fc",
   "metadata": {},
   "outputs": [],
   "source": [
    "# 비용함수와 옵티마이저 정의\n",
    "criterion = nn.CrossEntropyLoss().to(device) #내부적으로 소프트맥스 함수를 포함하고 있음\n",
    "optimizer = torch.optim.SGD(linear.parameters(), lr=0.1)"
   ]
  },
  {
   "cell_type": "code",
   "execution_count": 7,
   "id": "d19daa43",
   "metadata": {},
   "outputs": [
    {
     "name": "stdout",
     "output_type": "stream",
     "text": [
      "Epoch:  0001 cost = 0.534910798\n",
      "Epoch:  0002 cost = 0.359307885\n",
      "Epoch:  0003 cost = 0.331088513\n",
      "Epoch:  0004 cost = 0.316574335\n",
      "Epoch:  0005 cost = 0.307131052\n",
      "Epoch:  0006 cost = 0.300209075\n",
      "Epoch:  0007 cost = 0.294897050\n",
      "Epoch:  0008 cost = 0.290830195\n",
      "Epoch:  0009 cost = 0.287420511\n",
      "Epoch:  0010 cost = 0.284589112\n",
      "Epoch:  0011 cost = 0.281816602\n",
      "Epoch:  0012 cost = 0.279920727\n",
      "Epoch:  0013 cost = 0.277837515\n",
      "Epoch:  0014 cost = 0.276021779\n",
      "Epoch:  0015 cost = 0.274444699\n",
      "Learning finished\n"
     ]
    }
   ],
   "source": [
    "for epoch in range(training_epochs):\n",
    "    avg_cost = 0\n",
    "    total_batch = len(data_loader)\n",
    "    \n",
    "    for X, Y in data_loader:\n",
    "        #배치 크기가 100이므로 아래의 연산에서 X는 (100, 784)의 텐서가 된다.\n",
    "        X = X.view(-1, 28*28).to(device)\n",
    "        #레이블은 원-핫 인코딩이 된 상태가 아니라 0~9의 정수\n",
    "        Y = Y.to(device)\n",
    "        \n",
    "        optimizer.zero_grad()\n",
    "        hypothesis = linear(X)\n",
    "        cost = criterion(hypothesis, Y)\n",
    "        cost.backward()\n",
    "        optimizer.step()\n",
    "        \n",
    "        avg_cost += cost / total_batch\n",
    "        \n",
    "    print(\"Epoch: \", \"%04d\" % (epoch + 1), 'cost =', '{:.9f}'.format(avg_cost))\n",
    "    \n",
    "print('Learning finished')"
   ]
  },
  {
   "cell_type": "code",
   "execution_count": null,
   "id": "7df4c84c",
   "metadata": {},
   "outputs": [],
   "source": []
  }
 ],
 "metadata": {
  "kernelspec": {
   "display_name": "Python 3.7.10 64-bit",
   "language": "python",
   "name": "python3710jvsc74a57bd0767d51c1340bd893661ea55ea3124f6de3c7a262a8b4abca0554b478b1e2ff90"
  },
  "language_info": {
   "codemirror_mode": {
    "name": "ipython",
    "version": 3
   },
   "file_extension": ".py",
   "mimetype": "text/x-python",
   "name": "python",
   "nbconvert_exporter": "python",
   "pygments_lexer": "ipython3",
   "version": "3.7.10"
  }
 },
 "nbformat": 4,
 "nbformat_minor": 5
}
