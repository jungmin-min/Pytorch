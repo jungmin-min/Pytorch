{
 "cells": [
  {
   "cell_type": "code",
   "execution_count": 9,
   "id": "09dfe38e",
   "metadata": {},
   "outputs": [],
   "source": [
    "# 2. DATASET과 DATALOADER\n",
    "\n",
    "# 2-1. 데이터셋 불러오기 (FashionMNIST, 28x28 이미지와 10개의 class 중 하나인 정답(label) 구성)\n",
    "import torch\n",
    "from torch.utils.data import Dataset\n",
    "from torchvision import datasets\n",
    "from torchvision.transforms import ToTensor\n",
    "import matplotlib.pyplot as plt\n",
    "\n",
    "training_data = datasets.FashionMNIST(\n",
    "    root=\"data\",          #학습/테스트 데이터가 저장되는 경로\n",
    "    train=True,           #학습용 또는 테스트용 데이터셋 여부 지정\n",
    "    download=True,        #root에 데이터가 없는 경우 인터넷에서 다운로드\n",
    "    transform=ToTensor()  #특징(feature)과 정답(label) 변형(transform) 지정\n",
    ")\n",
    "\n",
    "test_data = datasets.FashionMNIST(\n",
    "    root=\"data\",\n",
    "    train=False,\n",
    "    download=True,\n",
    "    transform=ToTensor()\n",
    ")"
   ]
  },
  {
   "cell_type": "code",
   "execution_count": 10,
   "id": "295aad7b",
   "metadata": {},
   "outputs": [
    {
     "data": {
      "image/png": "[encoded data removed]",
      "text/plain": [
       "<Figure size 576x576 with 9 Axes>"
      ]
     },
     "metadata": {
      "needs_background": "light"
     },
     "output_type": "display_data"
    }
   ],
   "source": [
    "# 2-2. 데이터셋을 반복하고 시각화하기\n",
    "labels_map = {\n",
    "    0: \"T-Shirt\",\n",
    "    1: \"Trouser\",\n",
    "    2: \"Pullover\",\n",
    "    3: \"Dress\",\n",
    "    4: \"Coat\",\n",
    "    5: \"Sandal\",\n",
    "    6: \"Shirt\",\n",
    "    7: \"Sneaker\",\n",
    "    8: \"Bag\",\n",
    "    9: \"Ankle Boot\",\n",
    "}\n",
    "figure = plt.figure(figsize=(8,8))\n",
    "cols, rows = 3, 3\n",
    "for i in range(1, cols * rows + 1):\n",
    "    sample_idx = torch.randint(len(training_data), size=(1,)).item()\n",
    "    \"\"\"print(sample_idx)\"\"\"\n",
    "    img, label = training_data[sample_idx]\n",
    "    figure.add_subplot(rows, cols, i)\n",
    "    plt.title(labels_map[label])\n",
    "    plt.axis(\"off\")\n",
    "    plt.imshow(img.squeeze(), cmap=\"gray\")\n",
    "plt.show()"
   ]
  },
  {
   "cell_type": "code",
   "execution_count": 11,
   "id": "b3bc11a0",
   "metadata": {},
   "outputs": [],
   "source": [
    "# 2-3. 파일에서 사용자 정의 데이터셋 만들기\n",
    "#__init__, __len__, __getitem__ 세가지 함수 구현해야 함.\n",
    "#FashionMNIST 이미지들은 img_dir 디렉토리에 저장됨, 정답(label)은 annotation_file csv 파일에 저장됨 (ex: tshirt1.jpg, 0 / ,,,)\n",
    "import os\n",
    "import pandas as pd\n",
    "from torchvision.io import read_image\n",
    "\n",
    "class CustomImageDataset(Dataset):\n",
    "    #이미지와 annotation_file이 포함된 디렉토리와 두가지 변형(transform)을 초기화함\n",
    "    def __init__(self, annotations_file, img_dir, transform=None, target_transform=None):  \n",
    "        self.img_labels = pd.read_csv(annotations_file)\n",
    "        self.img_dir = img_dir\n",
    "        self.transform = transform\n",
    "        self.target_transform = target_transform\n",
    "    \n",
    "    #데이터셋의 샘플 개수 반환\n",
    "    def __len__(self):\n",
    "        return len(self.img_labels)\n",
    "    \n",
    "    #주어진 idx에 해당하는 샘플을 데이터셋에서 불러오고 반환\n",
    "    def __getitem__(self, idx):\n",
    "        img_path - os.path.join(self.img_dir, self.img_labels.iloc[idx, 0])\n",
    "        image = read_image(img_path)          #이미지를 텐서로 변환\n",
    "        label - self.img_labels.iloc[idx, 1]  #csv의 데이터로부터 정답(label)가져옴\n",
    "        if self.transform:                    #정답 해당하는 경우 변형(transform) 후 텐서이미지와 라벨을 dictionary형으로 반환\n",
    "            image = self.transform(image)\n",
    "        if self.target_transform:\n",
    "            label = self.target_transform(label)\n",
    "        sample = {\"image\": image, \"label\": label}\n",
    "        return sample"
   ]
  },
  {
   "cell_type": "code",
   "execution_count": 2,
   "id": "52ecb1c5",
   "metadata": {},
   "outputs": [
    {
     "name": "stdout",
     "output_type": "stream",
     "text": [
      "/usr/bin/python3.7\n"
     ]
    }
   ],
   "source": [
    "import sys\n",
    "print(sys.executable)"
   ]
  },
  {
   "cell_type": "code",
   "execution_count": 5,
   "id": "cecc1db2",
   "metadata": {},
   "outputs": [
    {
     "name": "stdout",
     "output_type": "stream",
     "text": [
      "Package                       Version\r\n",
      "----------------------------- -----------------------\r\n",
      "anyio                         2.2.0\r\n",
      "apturl                        0.5.2\r\n",
      "argon2-cffi                   20.1.0\r\n",
      "async-generator               1.10\r\n",
      "attrs                         20.3.0\r\n",
      "Babel                         2.9.0\r\n",
      "backcall                      0.2.0\r\n",
      "beautifulsoup4                4.4.1\r\n",
      "bleach                        3.3.0\r\n",
      "blinker                       1.3\r\n",
      "Brlapi                        0.6.4\r\n",
      "certifi                       2020.12.5\r\n",
      "cffi                          1.14.5\r\n",
      "chardet                       4.0.0\r\n",
      "checkbox-support              0.22\r\n",
      "command-not-found             0.3\r\n",
      "cryptography                  1.2.3\r\n",
      "cycler                        0.10.0\r\n",
      "decorator                     5.0.7\r\n",
      "defer                         1.0.6\r\n",
      "defusedxml                    0.7.1\r\n",
      "deprecation                   2.1.0\r\n",
      "distro-info                   0.14ubuntu0.2\r\n",
      "entrypoints                   0.3\r\n",
      "feedparser                    5.1.3\r\n",
      "guacamole                     0.9.2\r\n",
      "html5lib                      0.999\r\n",
      "httplib2                      0.9.1\r\n",
      "idna                          2.10\r\n",
      "importlib-metadata            4.0.0\r\n",
      "ipykernel                     5.5.3\r\n",
      "ipython                       7.22.0\r\n",
      "ipython-genutils              0.2.0\r\n",
      "jedi                          0.18.0\r\n",
      "Jinja2                        2.11.3\r\n",
      "json5                         0.9.5\r\n",
      "jsonschema                    3.2.0\r\n",
      "jupyter-client                6.1.12\r\n",
      "jupyter-core                  4.7.1\r\n",
      "jupyter-packaging             0.9.1\r\n",
      "jupyter-server                1.6.2\r\n",
      "jupyterlab                    3.0.14\r\n",
      "jupyterlab-pygments           0.1.2\r\n",
      "jupyterlab-server             2.4.0\r\n",
      "kiwisolver                    1.3.1\r\n",
      "language-selector             0.1\r\n",
      "louis                         2.6.4\r\n",
      "lxml                          4.6.3\r\n",
      "Mako                          1.0.3\r\n",
      "MarkupSafe                    1.1.1\r\n",
      "matplotlib                    3.3.4\r\n",
      "mistune                       0.8.4\r\n",
      "nbclassic                     0.2.7\r\n",
      "nbclient                      0.5.3\r\n",
      "nbconvert                     6.0.7\r\n",
      "nbformat                      5.1.3\r\n",
      "nest-asyncio                  1.5.1\r\n",
      "notebook                      6.3.0\r\n",
      "numpy                         1.19.5\r\n",
      "oauthlib                      1.0.3\r\n",
      "onboard                       1.2.0\r\n",
      "opencv-python                 4.5.3.56\r\n",
      "packaging                     20.9\r\n",
      "padme                         1.1.1\r\n",
      "pandocfilters                 1.4.3\r\n",
      "parso                         0.8.2\r\n",
      "pexpect                       4.8.0\r\n",
      "pickleshare                   0.7.5\r\n",
      "Pillow                        8.1.2\r\n",
      "pip                           21.1.3\r\n",
      "plainbox                      0.25\r\n",
      "prometheus-client             0.10.1\r\n",
      "prompt-toolkit                3.0.18\r\n",
      "ptyprocess                    0.7.0\r\n",
      "pyasn1                        0.1.9\r\n",
      "pycparser                     2.20\r\n",
      "pycups                        1.9.73\r\n",
      "pycurl                        7.43.0\r\n",
      "Pygments                      2.8.1\r\n",
      "pygobject                     3.20.0\r\n",
      "PyJWT                         1.3.0\r\n",
      "pyparsing                     2.4.7\r\n",
      "PyQt5                         5.10.1\r\n",
      "pyrsistent                    0.17.3\r\n",
      "python-apt                    1.1.0b1+ubuntu0.16.4.12\r\n",
      "python-dateutil               2.8.1\r\n",
      "python-debian                 0.1.27\r\n",
      "python-systemd                231\r\n",
      "pytz                          2021.1\r\n",
      "pyxdg                         0.25\r\n",
      "PyYAML                        3.11\r\n",
      "pyzmq                         22.0.3\r\n",
      "reportlab                     3.3.0\r\n",
      "requests                      2.25.1\r\n",
      "Send2Trash                    1.5.0\r\n",
      "sessioninstaller              0.0.0\r\n",
      "setuptools                    56.0.0\r\n",
      "sip                           4.19.8\r\n",
      "six                           1.15.0\r\n",
      "sniffio                       1.2.0\r\n",
      "ssh-import-id                 5.5\r\n",
      "system-service                0.3\r\n",
      "terminado                     0.9.4\r\n",
      "testpath                      0.4.4\r\n",
      "tomlkit                       0.7.0\r\n",
      "torch                         1.8.0\r\n",
      "torchaudio                    0.8.0\r\n",
      "torchvision                   0.9.0\r\n",
      "tornado                       6.1\r\n",
      "traitlets                     5.0.5\r\n",
      "typing-extensions             3.7.4.3\r\n",
      "ubuntu-advantage-tools        27.0\r\n",
      "ubuntu-drivers-common         0.0.0\r\n",
      "ufw                           0.35\r\n",
      "unattended-upgrades           0.1\r\n",
      "unity-scope-calculator        0.1\r\n",
      "unity-scope-chromiumbookmarks 0.1\r\n",
      "unity-scope-colourlovers      0.1\r\n",
      "unity-scope-devhelp           0.1\r\n",
      "unity-scope-firefoxbookmarks  0.1\r\n",
      "unity-scope-gdrive            0.7\r\n",
      "unity-scope-manpages          0.1\r\n",
      "unity-scope-openclipart       0.1\r\n",
      "unity-scope-texdoc            0.1\r\n",
      "unity-scope-tomboy            0.1\r\n",
      "unity-scope-virtualbox        0.1\r\n",
      "unity-scope-yelp              0.1\r\n",
      "unity-scope-zotero            0.1\r\n",
      "urllib3                       1.26.4\r\n",
      "usb-creator                   0.3.0\r\n",
      "wcwidth                       0.2.5\r\n",
      "webencodings                  0.5.1\r\n",
      "wheel                         0.36.2\r\n",
      "xdiagnose                     3.8.4.1\r\n",
      "xkit                          0.0.0\r\n",
      "XlsxWriter                    0.7.3\r\n",
      "zipp                          3.4.1\r\n"
     ]
    }
   ],
   "source": [
    "!pip list"
   ]
  },
  {
   "cell_type": "code",
   "execution_count": 6,
   "id": "3143417f",
   "metadata": {},
   "outputs": [
    {
     "name": "stdout",
     "output_type": "stream",
     "text": [
      "Defaulting to user installation because normal site-packages is not writeable\n",
      "Collecting pandas\n",
      "  Downloading pandas-1.3.0-cp37-cp37m-manylinux_2_5_x86_64.manylinux1_x86_64.whl (10.8 MB)\n",
      "\u001b[K     |████████████████████████████████| 10.8 MB 10.7 MB/s eta 0:00:01   |██████▉                         | 2.3 MB 842 kB/s eta 0:00:11\n",
      "\u001b[?25hRequirement already satisfied: pytz>=2017.3 in /usr/local/lib/python3.7/dist-packages (from pandas) (2021.1)\n",
      "Requirement already satisfied: numpy>=1.17.3 in /usr/local/lib/python3.7/dist-packages (from pandas) (1.19.5)\n",
      "Requirement already satisfied: python-dateutil>=2.7.3 in /usr/local/lib/python3.7/dist-packages (from pandas) (2.8.1)\n",
      "Requirement already satisfied: six>=1.5 in /usr/local/lib/python3.7/dist-packages (from python-dateutil>=2.7.3->pandas) (1.15.0)\n",
      "Installing collected packages: pandas\n",
      "Successfully installed pandas-1.3.0\n"
     ]
    }
   ],
   "source": [
    "!pip install pandas"
   ]
  },
  {
   "cell_type": "code",
   "execution_count": 12,
   "id": "88cdd9cf",
   "metadata": {},
   "outputs": [],
   "source": [
    "# 2-4. DataLoader로 학습용 데이터 준비하기\n",
    "#Dataset은 데이터의 feature 가져오고 label 지정하는 일을 한 번에 함.\n",
    "#모델 학습할 때 샘플들을 minibatch로 전달, 매 epoch마다 데이터를 섞어 overfit을 막고 multiprocessing을 사용해 데이터 검색 속도 높이려고 함.\n",
    "#DataLoader: API, 위의 과정을 추상화한 iteratable한 객체임.\n",
    "from torch.utils.data import DataLoader\n",
    "\n",
    "train_dataloader = DataLoader(training_data, batch_size=64, shuffle=True)\n",
    "test_dataloader = DataLoader(test_data, batch_size=64, shuffle = True)"
   ]
  },
  {
   "cell_type": "code",
   "execution_count": 18,
   "id": "9e299736",
   "metadata": {},
   "outputs": [
    {
     "name": "stdout",
     "output_type": "stream",
     "text": [
      "Feature batch shape: torch.Size([64, 1, 28, 28])\n",
      "Labels batch shape: torch.Size([64])\n"
     ]
    },
    {
     "data": {
      "image/png": "[encoded data removed]",
      "text/plain": [
       "<Figure size 432x288 with 1 Axes>"
      ]
     },
     "metadata": {
      "needs_background": "light"
     },
     "output_type": "display_data"
    },
    {
     "name": "stdout",
     "output_type": "stream",
     "text": [
      "Label: 5\n"
     ]
    }
   ],
   "source": [
    "# 2-5. DataLoader를 통해 반복하기(iterate)\n",
    "#iter은 train_featuers, train_labels 묶음(batch) 반환\n",
    "#DataLoader의 shuffer=True 이므로 모든 배치를 반복한 뒤 데이터가 섞임. 실행할 때마다 다른 이미지로 학습.\n",
    "train_features, train_labels = next(iter(train_dataloader))\n",
    "print(f\"Feature batch shape: {train_features.size()}\")\n",
    "print(f\"Labels batch shape: {train_labels.size()}\")\n",
    "img = train_features[0].squeeze()\n",
    "label = train_labels[0]\n",
    "plt.imshow(img, cmap=\"gray\")\n",
    "plt.show()\n",
    "print(f\"Label: {label}\")"
   ]
  }
 ],
 "metadata": {
  "kernelspec": {
   "display_name": "Python 3",
   "language": "python",
   "name": "python3"
  },
  "language_info": {
   "codemirror_mode": {
    "name": "ipython",
    "version": 3
   },
   "file_extension": ".py",
   "mimetype": "text/x-python",
   "name": "python",
   "nbconvert_exporter": "python",
   "pygments_lexer": "ipython3",
   "version": "3.7.10"
  }
 },
 "nbformat": 4,
 "nbformat_minor": 5
}
