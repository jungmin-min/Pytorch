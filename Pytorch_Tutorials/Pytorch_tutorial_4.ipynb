{
 "cells": [
  {
   "cell_type": "code",
   "execution_count": 4,
   "id": "50dd24cc",
   "metadata": {},
   "outputs": [],
   "source": [
    "# 4. 신경망 모델 구성하기\n",
    "#신경망은 데이터에 대한 연산을 수행하는 layer/module로 구성됨.\n",
    "#torch.nn 신경망 구성 요소 제공\n",
    "\n",
    "import os\n",
    "import torch\n",
    "from torch import nn\n",
    "from torch.utils.data import DataLoader\n",
    "from torchvision import datasets, transforms"
   ]
  },
  {
   "cell_type": "code",
   "execution_count": 9,
   "id": "7969fb97",
   "metadata": {},
   "outputs": [],
   "source": [
    "# 4-1. 학습을 위한 장치 얻기 (GPU 모델로) (CUDA 10.2 버전 지원 x)\n",
    "#device = 'cuda' if torch.cuda.is_available() else 'cpu'\n",
    "#print('Using {} device'.format(device))\n",
    "\n",
    "device = torch.device('cpu')"
   ]
  },
  {
   "cell_type": "code",
   "execution_count": 10,
   "id": "d4475a12",
   "metadata": {},
   "outputs": [
    {
     "name": "stdout",
     "output_type": "stream",
     "text": [
      "NeuralNetwork(\n",
      "  (flatten): Flatten(start_dim=1, end_dim=-1)\n",
      "  (linear_relu_stack): Sequential(\n",
      "    (0): Linear(in_features=784, out_features=512, bias=True)\n",
      "    (1): ReLU()\n",
      "    (2): Linear(in_features=512, out_features=512, bias=True)\n",
      "    (3): ReLU()\n",
      "    (4): Linear(in_features=512, out_features=10, bias=True)\n",
      "    (5): ReLU()\n",
      "  )\n",
      ")\n"
     ]
    }
   ],
   "source": [
    "# 4-2. 클래스 정의하기\n",
    "#신경망 모델을 nn.Module의 하위클래스로 정의, __init__ 신경망 계층들 초기화\n",
    "#nn.Module을 상속받은 모든 클래스는 forward 메소드에 입력 데이터에 대한 연산 구현\n",
    "class NeuralNetwork(nn.Module):\n",
    "    def __init__(self):\n",
    "        super(NeuralNetwork, self).__init__()\n",
    "        self.flatten = nn.Flatten()\n",
    "        self.linear_relu_stack = nn.Sequential(\n",
    "            nn.Linear(28*28, 512),\n",
    "            nn.ReLU(),\n",
    "            nn.Linear(512, 512),\n",
    "            nn.ReLU(),\n",
    "            nn.Linear(512, 10),\n",
    "            nn.ReLU()\n",
    "        )\n",
    "    def forward(self, x):\n",
    "        x = self.flatten(x)\n",
    "        logits = self.linear_relu_stack(x)\n",
    "        return logits\n",
    "    \n",
    "    \n",
    "#NeuralNetwork의 인스턴스 생성 후 device로 이동한 뒤, structure 출력 (10-차원 텐서 반환됨)\n",
    "model = NeuralNetwork().to(device)\n",
    "print(model)"
   ]
  },
  {
   "cell_type": "code",
   "execution_count": 12,
   "id": "281401a0",
   "metadata": {},
   "outputs": [
    {
     "name": "stdout",
     "output_type": "stream",
     "text": [
      "Predicted class: tensor([6])\n"
     ]
    }
   ],
   "source": [
    "#원시 예측값을 nn.Softmax 모듈의 인스턴스에 통과시켜 예측 확률 얻음\n",
    "X = torch.rand(1, 28, 28, device=device)\n",
    "logits = model(X)\n",
    "pred_probab = nn.Softmax(dim=1)(logits)\n",
    "y_pred = pred_probab.argmax(1)\n",
    "print(f\"Predicted class: {y_pred}\")"
   ]
  },
  {
   "cell_type": "code",
   "execution_count": 13,
   "id": "ca966a15",
   "metadata": {},
   "outputs": [
    {
     "name": "stdout",
     "output_type": "stream",
     "text": [
      "torch.Size([3, 28, 28])\n"
     ]
    }
   ],
   "source": [
    "# 4-3. 모델 계층(Layer)\n",
    "input_image = torch.rand(3, 28, 28)\n",
    "print(input_image.size())"
   ]
  },
  {
   "cell_type": "code",
   "execution_count": 14,
   "id": "650fd5bc",
   "metadata": {},
   "outputs": [
    {
     "name": "stdout",
     "output_type": "stream",
     "text": [
      "torch.Size([3, 784])\n"
     ]
    }
   ],
   "source": [
    "#nn.Flatten: 계층을 초기화하여 28x28의 2D이미지를 784픽셀 값을 갖는 연속된 배열로 변환\n",
    "flatten = nn.Flatten()\n",
    "flat_image = flatten(input_image)\n",
    "print(flat_image.size())"
   ]
  },
  {
   "cell_type": "code",
   "execution_count": 15,
   "id": "4eab7c1c",
   "metadata": {},
   "outputs": [
    {
     "name": "stdout",
     "output_type": "stream",
     "text": [
      "torch.Size([3, 20])\n"
     ]
    }
   ],
   "source": [
    "#nn.Linear: 저장된 가중치(weight)와 편향(bias)을 사용하여 입력에 linear transformation을 적용하는 모듈\n",
    "layer1 = nn.Linear(in_features=28*28, out_features=20)\n",
    "hidden1 = layer1(flat_image)\n",
    "print(hidden1.size())"
   ]
  },
  {
   "cell_type": "code",
   "execution_count": 16,
   "id": "ee31a6d0",
   "metadata": {},
   "outputs": [
    {
     "name": "stdout",
     "output_type": "stream",
     "text": [
      "Before ReLU: tensor([[ 0.1383,  0.0280, -0.8452,  0.5328, -0.3093, -0.3265,  0.2363,  0.2962,\n",
      "          0.0051, -0.1414, -0.0347,  0.0662,  0.1580,  0.0046, -0.1316,  0.7648,\n",
      "          0.3470, -0.5088, -0.2353, -0.2216],\n",
      "        [ 0.3016, -0.3619, -0.5546,  0.6903, -0.3972, -0.1583,  0.2376, -0.1282,\n",
      "         -0.1458,  0.0034, -0.0890,  0.1028,  0.3383,  0.2761, -0.4433,  0.7410,\n",
      "         -0.0225, -0.0366, -0.3086, -0.0139],\n",
      "        [ 0.2303, -0.1368, -0.6533,  0.5481, -0.1284, -0.1842,  0.0580, -0.0150,\n",
      "         -0.4142, -0.1455,  0.1574,  0.1040, -0.0828, -0.1969, -0.6088,  0.7342,\n",
      "          0.3211, -0.1713, -0.3394,  0.0248]], grad_fn=<AddmmBackward>)\n",
      "\n",
      "\n",
      "After ReLU: tensor([[0.1383, 0.0280, 0.0000, 0.5328, 0.0000, 0.0000, 0.2363, 0.2962, 0.0051,\n",
      "         0.0000, 0.0000, 0.0662, 0.1580, 0.0046, 0.0000, 0.7648, 0.3470, 0.0000,\n",
      "         0.0000, 0.0000],\n",
      "        [0.3016, 0.0000, 0.0000, 0.6903, 0.0000, 0.0000, 0.2376, 0.0000, 0.0000,\n",
      "         0.0034, 0.0000, 0.1028, 0.3383, 0.2761, 0.0000, 0.7410, 0.0000, 0.0000,\n",
      "         0.0000, 0.0000],\n",
      "        [0.2303, 0.0000, 0.0000, 0.5481, 0.0000, 0.0000, 0.0580, 0.0000, 0.0000,\n",
      "         0.0000, 0.1574, 0.1040, 0.0000, 0.0000, 0.0000, 0.7342, 0.3211, 0.0000,\n",
      "         0.0000, 0.0248]], grad_fn=<ReluBackward0>)\n"
     ]
    }
   ],
   "source": [
    "#nn.ReLU: 비선형 활성화(activation), 모델의 입력과 출력 사이 복잡한 관계(mapping)을 만듦.\n",
    "print(f\"Before ReLU: {hidden1}\\n\\n\")\n",
    "hidden1 = nn.ReLU()(hidden1)\n",
    "print(f\"After ReLU: {hidden1}\")"
   ]
  },
  {
   "cell_type": "code",
   "execution_count": 17,
   "id": "c8d2733d",
   "metadata": {},
   "outputs": [],
   "source": [
    "#nn.Sequential: 순서를 갖는 module의 컨테이너 (순차 컨테이너)\n",
    "seq_modules = nn.Sequential(\n",
    "    flatten,\n",
    "    layer1,\n",
    "    nn.ReLU(),\n",
    "    nn.Linear(20, 10)\n",
    ")\n",
    "input_image = torch.rand(3, 28, 28)\n",
    "logits = seq_modules(input_image)"
   ]
  },
  {
   "cell_type": "code",
   "execution_count": 18,
   "id": "d9317561",
   "metadata": {},
   "outputs": [],
   "source": [
    "#nn.Softmax: 신경망의 마지막 선형 계층, [-infty, infty]범위의 원시 값(raw value)인 logits 반환\n",
    "#logits는 모델의 각 class에 대한 예측 확률을 나타내도록 [0,1] 범위로 비례하여 조정(scale)됨.\n",
    "softmax = nn.Softmax(dim=1)\n",
    "pred_probab = softmax(logits)"
   ]
  },
  {
   "cell_type": "code",
   "execution_count": 21,
   "id": "29ad3175",
   "metadata": {},
   "outputs": [
    {
     "name": "stdout",
     "output_type": "stream",
     "text": [
      "Model structure:  NeuralNetwork(\n",
      "  (flatten): Flatten(start_dim=1, end_dim=-1)\n",
      "  (linear_relu_stack): Sequential(\n",
      "    (0): Linear(in_features=784, out_features=512, bias=True)\n",
      "    (1): ReLU()\n",
      "    (2): Linear(in_features=512, out_features=512, bias=True)\n",
      "    (3): ReLU()\n",
      "    (4): Linear(in_features=512, out_features=10, bias=True)\n",
      "    (5): ReLU()\n",
      "  )\n",
      ") \n",
      "\n",
      "\n",
      "Layer: linear_relu_stack.0.weight | Size: torch.Size([512, 784]) | Values: tensor([[ 0.0248, -0.0091, -0.0328,  ...,  0.0258,  0.0322,  0.0222],\n",
      "        [-0.0213,  0.0149,  0.0345,  ..., -0.0142, -0.0282, -0.0152]],\n",
      "       grad_fn=<SliceBackward>) \n",
      "\n",
      "Layer: linear_relu_stack.0.bias | Size: torch.Size([512]) | Values: tensor([-0.0228,  0.0355], grad_fn=<SliceBackward>) \n",
      "\n",
      "Layer: linear_relu_stack.2.weight | Size: torch.Size([512, 512]) | Values: tensor([[-0.0265,  0.0341, -0.0413,  ..., -0.0266, -0.0378,  0.0011],\n",
      "        [ 0.0416, -0.0197,  0.0055,  ...,  0.0388, -0.0344,  0.0106]],\n",
      "       grad_fn=<SliceBackward>) \n",
      "\n",
      "Layer: linear_relu_stack.2.bias | Size: torch.Size([512]) | Values: tensor([0.0319, 0.0418], grad_fn=<SliceBackward>) \n",
      "\n",
      "Layer: linear_relu_stack.4.weight | Size: torch.Size([10, 512]) | Values: tensor([[-0.0077, -0.0391,  0.0069,  ..., -0.0356,  0.0233,  0.0334],\n",
      "        [ 0.0034, -0.0305,  0.0161,  ...,  0.0290,  0.0165, -0.0196]],\n",
      "       grad_fn=<SliceBackward>) \n",
      "\n",
      "Layer: linear_relu_stack.4.bias | Size: torch.Size([10]) | Values: tensor([-0.0026,  0.0308], grad_fn=<SliceBackward>) \n",
      "\n"
     ]
    }
   ],
   "source": [
    "# 4-4. 모델 매개변수\n",
    "#신경망 내부의 많은 계층들은 매개변수화 됨 (학습 중에 최적화되는 weight와 bias와 연관지어진다.)\n",
    "#nn.Module을 상속하면 모델 객체 내부의 모든 필드들이 자동으로 track되며, parameters()및 named_parameters() 메소드로 접근가능\n",
    "print(\"Model structure: \", model, \"\\n\\n\")\n",
    "for name, param in model.named_parameters():\n",
    "    print(f\"Layer: {name} | Size: {param.size()} | Values: {param[:2]} \\n\")"
   ]
  },
  {
   "cell_type": "code",
   "execution_count": null,
   "id": "b9751aa2",
   "metadata": {},
   "outputs": [],
   "source": []
  }
 ],
 "metadata": {
  "kernelspec": {
   "display_name": "Python 3",
   "language": "python",
   "name": "python3"
  },
  "language_info": {
   "codemirror_mode": {
    "name": "ipython",
    "version": 3
   },
   "file_extension": ".py",
   "mimetype": "text/x-python",
   "name": "python",
   "nbconvert_exporter": "python",
   "pygments_lexer": "ipython3",
   "version": "3.7.10"
  }
 },
 "nbformat": 4,
 "nbformat_minor": 5
}
