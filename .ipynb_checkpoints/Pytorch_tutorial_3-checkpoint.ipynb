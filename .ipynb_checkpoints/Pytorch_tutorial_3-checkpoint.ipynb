{
 "cells": [
  {
   "cell_type": "code",
   "execution_count": 1,
   "id": "c0bfdd5f",
   "metadata": {},
   "outputs": [],
   "source": [
    "# 3.변형(Transform)\n",
    "#모든 TorchVision 데이터셋은 2개의 매개변수 가짐(feature을 변경하기 위한 transform / label을 변경하기 위한 target_transform)\n",
    "#FashionMNIST feature은 PIL image형식, label은 integer형식\n",
    "#학습을 하려면 정규화된 텐서 형태의 feature과 one-hot으로 encode된 텐서 형태의 label이 필요함\n",
    "#이런 변형을을 위해 'ToTensor'와 'Lambda' 사용\n",
    "\n",
    "import torch\n",
    "from torchvision import datasets\n",
    "from torchvision.transforms import ToTensor, Lambda\n",
    "\n",
    "ds = datasets.FashionMNIST(\n",
    "    root=\"data\",\n",
    "    train=True,\n",
    "    download=True,\n",
    "    transform=ToTensor(),\n",
    "    # ToTensor(): PIL image나 NumPy ndarray를 FloatTensor로 변환, 이미지의 픽셀 크기(intensity) 값을 [0.,1.]범위로 조정(scale)함.\n",
    "    target_transform=Lambda(lambda y: torch.zeros(10, dtype=torch.float).scatter_(0, torch.tensor(y), value=1))\n",
    "    # Lambda: 사용자 정의 람다(lambda)함수 적용. 정수를 원-핫 부호화된 텐서로 바꾸는 함수 정의\n",
    "    #데이터셋 정답의 개수인 크기 10짜리 zero tensor를 만들고, scatter_를 호출하여 주어진 정답 y에 해당하는 인덱스에 value=1 할당\n",
    ")"
   ]
  }
 ],
 "metadata": {
  "kernelspec": {
   "display_name": "Python 3",
   "language": "python",
   "name": "python3"
  },
  "language_info": {
   "codemirror_mode": {
    "name": "ipython",
    "version": 3
   },
   "file_extension": ".py",
   "mimetype": "text/x-python",
   "name": "python",
   "nbconvert_exporter": "python",
   "pygments_lexer": "ipython3",
   "version": "3.7.10"
  }
 },
 "nbformat": 4,
 "nbformat_minor": 5
}
